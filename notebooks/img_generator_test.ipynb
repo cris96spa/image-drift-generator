{
 "cells": [
  {
   "cell_type": "code",
   "execution_count": 1,
   "metadata": {},
   "outputs": [
    {
     "name": "stdout",
     "output_type": "stream",
     "text": [
      "/Users/cristian/Personal/Projects/image-drift-generator\n"
     ]
    }
   ],
   "source": [
    "%load_ext autoreload\n",
    "%autoreload 2\n",
    "import sys\n",
    "import os\n",
    "while not os.getcwd().endswith(\"image-drift-generator\"):\n",
    "    os.chdir(\"..\")\n",
    "    print(os.getcwd())\n",
    "import numpy as np\n",
    "import matplotlib.pyplot as plt\n",
    "\n",
    "from tqdm.auto import tqdm\n",
    "import torch\n",
    "import torchvision.transforms.v2 as transforms\n",
    "from torchvision.datasets import ImageFolder\n",
    "from torch.utils.data import DataLoader\n",
    "from torchvision.utils import make_grid\n",
    "import polars as pl\n",
    "\n",
    "from scripts.image_generator import ImageDatasetGenerator\n",
    "from scripts.image_factory import *\n",
    "import warnings\n",
    "from torchvision import models\n",
    "import torch.nn as nn\n",
    "%matplotlib inline\n",
    "warnings.filterwarnings('ignore')\n",
    "# from alibi_detect.cd import MMDDrift\n",
    "# set tight layout\n",
    "plt.rcParams.update({'figure.autolayout': True})"
   ]
  },
  {
   "cell_type": "code",
   "execution_count": 2,
   "metadata": {},
   "outputs": [
    {
     "name": "stdout",
     "output_type": "stream",
     "text": [
      "Supported device: mps.\n"
     ]
    }
   ],
   "source": [
    "seed = 42\n",
    "if torch.cuda.is_available():\n",
    "    device = torch.device('cuda')\n",
    "elif torch.backends.mps.is_available():\n",
    "    device = torch.device('mps')\n",
    "else:\n",
    "    device = torch.device('cpu')\n",
    "\n",
    "torch.set_default_device(device)\n",
    "print(f\"Supported device: {device}.\")\n"
   ]
  },
  {
   "cell_type": "code",
   "execution_count": 3,
   "metadata": {},
   "outputs": [],
   "source": [
    "mean=[0.485, 0.456, 0.406]\n",
    "std=[0.229, 0.224, 0.225]\n",
    "batch_size = 32"
   ]
  },
  {
   "cell_type": "code",
   "execution_count": 4,
   "metadata": {},
   "outputs": [],
   "source": [
    "tensor_transform = transforms.Compose([\n",
    "    transforms.Resize((224, 224)),\n",
    "    transforms.ToTensor(),\n",
    "    # transforms.Normalize(mean=mean, std=std)\n",
    "])"
   ]
  },
  {
   "cell_type": "code",
   "execution_count": 9,
   "metadata": {},
   "outputs": [],
   "source": [
    "img_path = \"../../data/places/\""
   ]
  },
  {
   "cell_type": "code",
   "execution_count": 11,
   "metadata": {},
   "outputs": [],
   "source": [
    "image_generator = ImageDatasetGenerator(\n",
    "    seed=42,\n",
    "    input_path=img_path,\n",
    ")"
   ]
  },
  {
   "cell_type": "code",
   "execution_count": 12,
   "metadata": {},
   "outputs": [],
   "source": [
    "all_transform = [\n",
    "    TransformInfo(\n",
    "        transf_type=ImageTransform.ROTATE,\n",
    "        drift_level=0.9,\n",
    "    ),\n",
    "    TransformInfo(\n",
    "        transf_type=ImageTransform.BRIGHTNESS,\n",
    "        drift_level=0.3,\n",
    "    ),\n",
    "    TransformInfo(\n",
    "        transf_type=ImageTransform.CONTRAST,\n",
    "        drift_level=0.1,\n",
    "    ),\n",
    "    TransformInfo(\n",
    "        transf_type=ImageTransform.HUE,\n",
    "        drift_level=0.1,\n",
    "    ),\n",
    "    TransformInfo(\n",
    "        transf_type=ImageTransform.SATURATION,\n",
    "        drift_level=0.5,\n",
    "    ),\n",
    "    TransformInfo(\n",
    "        transf_type=ImageTransform.GAUSSIAN_BLUR,\n",
    "        drift_level=0.1,\n",
    "    ),\n",
    "    TransformInfo(\n",
    "        transf_type=ImageTransform.GAUSSIAN_NOISE,\n",
    "        drift_level=1.,\n",
    "    )\n",
    "]"
   ]
  },
  {
   "cell_type": "code",
   "execution_count": 13,
   "metadata": {},
   "outputs": [],
   "source": [
    "image_generator.add_abrupt_drift(\n",
    "    drift_target=DriftTarget.INPUT,\n",
    "    input_drift_type=InputDriftType.IMAGE_AUGMENTATION,\n",
    "    transform_list=all_transform,\n",
    ")"
   ]
  },
  {
   "cell_type": "code",
   "execution_count": 14,
   "metadata": {},
   "outputs": [
    {
     "data": {
      "text/plain": [
       "Compose(\n",
       "      RandomRotation(degrees=[-81.0, 81.0], interpolation=InterpolationMode.NEAREST, expand=False, fill=0)\n",
       "      ColorJitter(brightness=(0.0, 2.5))\n",
       "      ColorJitter(contrast=(0.5, 1.5))\n",
       "      ColorJitter(hue=(-0.05, 0.05))\n",
       "      ColorJitter(saturation=(0.0, 8.5))\n",
       "      GaussianBlur(kernel_size=(5, 5), sigma=[0.30000000000000004, 0.30000000000000004])\n",
       "      GaussianNoise(mean=0.1, sigma=0.5, clip=True)\n",
       ")"
      ]
     },
     "execution_count": 14,
     "metadata": {},
     "output_type": "execute_result"
    }
   ],
   "source": [
    "image_generator.transform_pipeline"
   ]
  },
  {
   "cell_type": "code",
   "execution_count": 20,
   "metadata": {},
   "outputs": [
    {
     "name": "stdout",
     "output_type": "stream",
     "text": [
      "Archive created successfully: ../../data/places/places_generated/sampled_images.zip\n",
      "Original folder '../../data/places/places_generated/sampled_images' deleted after zipping.\n"
     ]
    }
   ],
   "source": [
    "data_category = image_generator.sample(32, output_path=\"../../data/places/places_generated/\")"
   ]
  },
  {
   "cell_type": "code",
   "execution_count": 21,
   "metadata": {},
   "outputs": [
    {
     "name": "stdout",
     "output_type": "stream",
     "text": [
      "shape: (32, 3)\n",
      "┌───────────┬───────────┬───────┐\n",
      "│ sample-id ┆ timestamp ┆ label │\n",
      "│ ---       ┆ ---       ┆ ---   │\n",
      "│ i64       ┆ f64       ┆ i64   │\n",
      "╞═══════════╪═══════════╪═══════╡\n",
      "│ 32        ┆ 1.7172e9  ┆ 0     │\n",
      "│ 33        ┆ 1.7172e9  ┆ 0     │\n",
      "│ 34        ┆ 1.7172e9  ┆ 1     │\n",
      "│ 35        ┆ 1.7172e9  ┆ 0     │\n",
      "│ 36        ┆ 1.7172e9  ┆ 1     │\n",
      "│ …         ┆ …         ┆ …     │\n",
      "│ 59        ┆ 1.7172e9  ┆ 0     │\n",
      "│ 60        ┆ 1.7172e9  ┆ 0     │\n",
      "│ 61        ┆ 1.7172e9  ┆ 0     │\n",
      "│ 62        ┆ 1.7172e9  ┆ 0     │\n",
      "│ 63        ┆ 1.7172e9  ┆ 1     │\n",
      "└───────────┴───────────┴───────┘\n"
     ]
    }
   ],
   "source": [
    "print(data_category.target)"
   ]
  },
  {
   "cell_type": "code",
   "execution_count": 22,
   "metadata": {},
   "outputs": [
    {
     "name": "stdout",
     "output_type": "stream",
     "text": [
      "shape: (32, 3)\n",
      "┌───────────┬───────────┬─────────────────────────────────┐\n",
      "│ sample-id ┆ timestamp ┆ file_name                       │\n",
      "│ ---       ┆ ---       ┆ ---                             │\n",
      "│ i64       ┆ f64       ┆ str                             │\n",
      "╞═══════════╪═══════════╪═════════════════════════════════╡\n",
      "│ 32        ┆ 1.7172e9  ┆ 707ae2b2-50ab-4a27-88e6-5f9f0a… │\n",
      "│ 33        ┆ 1.7172e9  ┆ c4cff463-2b48-4d0d-864a-81a809… │\n",
      "│ 34        ┆ 1.7172e9  ┆ 6b933fe9-c8c6-4c31-b082-8883ad… │\n",
      "│ 35        ┆ 1.7172e9  ┆ a18a13ad-61b1-4afc-bd65-591389… │\n",
      "│ 36        ┆ 1.7172e9  ┆ edb0b297-537a-4ce1-a163-0a1e8a… │\n",
      "│ …         ┆ …         ┆ …                               │\n",
      "│ 59        ┆ 1.7172e9  ┆ 6961a9bd-bcc6-460b-8ea4-2d17ca… │\n",
      "│ 60        ┆ 1.7172e9  ┆ ee19bf8d-675f-49d5-a2a9-7c5c33… │\n",
      "│ 61        ┆ 1.7172e9  ┆ ba635c98-ed00-4b2e-8fcd-2d1013… │\n",
      "│ 62        ┆ 1.7172e9  ┆ db3c59ed-b045-450c-8794-a16023… │\n",
      "│ 63        ┆ 1.7172e9  ┆ 66eb567d-e77d-4235-a179-8961b7… │\n",
      "└───────────┴───────────┴─────────────────────────────────┘\n"
     ]
    }
   ],
   "source": [
    "print(data_category.input_mapping)"
   ]
  },
  {
   "cell_type": "code",
   "execution_count": 23,
   "metadata": {},
   "outputs": [
    {
     "name": "stdout",
     "output_type": "stream",
     "text": [
      "FolderType.ZIP\n",
      "/Users/cristian/Personal/data/places/places_generated/sampled_images.zip\n",
      "png\n",
      "True\n",
      "False\n"
     ]
    }
   ],
   "source": [
    "\n",
    "print(data_category.input_folder_type)\n",
    "print(data_category.input_folder)\n",
    "print(data_category.input_file_type)\n",
    "print(data_category.is_input_folder)\n",
    "print(data_category.is_target_folder)\n"
   ]
  },
  {
   "cell_type": "code",
   "execution_count": 24,
   "metadata": {},
   "outputs": [
    {
     "name": "stdout",
     "output_type": "stream",
     "text": [
      "('columns', [ColumnInfo(name='timestamp', role=<ColumnRole.TIME_ID: 'time_id'>, is_nullable=False, data_type=<DataType.FLOAT: 'float'>, predicted_target=None, possible_values=None, model_id=None, dims=None, classes_names=None, subrole=None, image_mode=None), ColumnInfo(name='sample-id', role=<ColumnRole.ID: 'id'>, is_nullable=False, data_type=<DataType.STRING: 'string'>, predicted_target=None, possible_values=None, model_id=None, dims=None, classes_names=None, subrole=None, image_mode=None), ColumnInfo(name='label', role=<ColumnRole.TARGET: 'target'>, is_nullable=False, data_type=<DataType.CATEGORICAL: 'categorical'>, predicted_target=None, possible_values=[0, 1], model_id=None, dims=None, classes_names=None, subrole=None, image_mode=None), ColumnInfo(name='image', role=<ColumnRole.INPUT: 'input'>, is_nullable=False, data_type=<DataType.ARRAY_3: 'array_3'>, predicted_target=None, possible_values=None, model_id=None, dims=(224, 224, 3), classes_names=None, subrole=None, image_mode=<ImageMode.RGB: 'rgb'>)])\n"
     ]
    }
   ],
   "source": [
    "columns = image_generator.get_dataschema()\n",
    "for col in columns:\n",
    "    print(col)"
   ]
  },
  {
   "cell_type": "code",
   "execution_count": null,
   "metadata": {},
   "outputs": [],
   "source": []
  }
 ],
 "metadata": {
  "kernelspec": {
   "display_name": ".venv",
   "language": "python",
   "name": "python3"
  },
  "language_info": {
   "codemirror_mode": {
    "name": "ipython",
    "version": 3
   },
   "file_extension": ".py",
   "mimetype": "text/x-python",
   "name": "python",
   "nbconvert_exporter": "python",
   "pygments_lexer": "ipython3",
   "version": "3.12.7"
  }
 },
 "nbformat": 4,
 "nbformat_minor": 2
}
